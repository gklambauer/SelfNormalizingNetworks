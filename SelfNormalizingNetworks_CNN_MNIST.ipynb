{
 "cells": [
  {
   "cell_type": "markdown",
   "metadata": {
    "collapsed": false
   },
   "source": [
    "# Tutorial on self-normalizing networks on the MNIST data set: convolutional neural networks\n",
    "\n",
    "*Author:* Guenter Klambauer, 2017\n",
    "\n",
    "tested under Python 3.5 and Tensorflow 1.1\n"
   ]
  },
  {
   "cell_type": "code",
   "execution_count": 15,
   "metadata": {
    "collapsed": false
   },
   "outputs": [
    {
     "name": "stdout",
     "output_type": "stream",
     "text": [
      "Extracting /tmp/data/train-images-idx3-ubyte.gz\n",
      "Extracting /tmp/data/train-labels-idx1-ubyte.gz\n",
      "Extracting /tmp/data/t10k-images-idx3-ubyte.gz\n",
      "Extracting /tmp/data/t10k-labels-idx1-ubyte.gz\n"
     ]
    }
   ],
   "source": [
    "import tensorflow as tf\n",
    "import numpy as np\n",
    "\n",
    "from __future__ import absolute_import, division, print_function\n",
    "import numbers\n",
    "from tensorflow.contrib import layers\n",
    "from tensorflow.python.framework import ops\n",
    "from tensorflow.python.framework import tensor_shape\n",
    "from tensorflow.python.framework import tensor_util\n",
    "from tensorflow.python.ops import math_ops\n",
    "from tensorflow.python.ops import random_ops\n",
    "from tensorflow.python.ops import array_ops\n",
    "from tensorflow.python.layers import utils\n",
    "\n",
    "from sklearn.preprocessing import StandardScaler\n",
    "from scipy.special import erf,erfc\n",
    "\n",
    "# Import MNIST data\n",
    "from tensorflow.examples.tutorials.mnist import input_data\n",
    "mnist = input_data.read_data_sets(\"/tmp/data/\", one_hot=True)"
   ]
  },
  {
   "cell_type": "code",
   "execution_count": null,
   "metadata": {
    "collapsed": true
   },
   "outputs": [],
   "source": [
    "### Add desired fixed point here:"
   ]
  },
  {
   "cell_type": "code",
   "execution_count": 28,
   "metadata": {
    "collapsed": false
   },
   "outputs": [],
   "source": [
    "alpha01 = - np.sqrt(2/np.pi) / (np.exp(0.5) * erfc(1/np.sqrt(2))-1 )  \n",
    "lambda01 = (1-np.sqrt(np.exp(1))*erfc(1/np.sqrt(2)))  *  \\\n",
    "                np.sqrt( 2*np.pi/ (2 + np.pi -2*np.sqrt(np.exp(1))*(2+np.pi) *  \\\n",
    "                erfc(1/np.sqrt(2)) + np.exp(1)*np.pi*erfc(1/np.sqrt(2))**2 + 2*np.exp(2)*erfc(np.sqrt(2))))"
   ]
  },
  {
   "cell_type": "code",
   "execution_count": 30,
   "metadata": {
    "collapsed": false
   },
   "outputs": [
    {
     "data": {
      "text/plain": [
       "1.0507009873554807"
      ]
     },
     "execution_count": 30,
     "metadata": {},
     "output_type": "execute_result"
    }
   ],
   "source": [
    "lambda01"
   ]
  },
  {
   "cell_type": "markdown",
   "metadata": {},
   "source": [
    "### (1) Definition of scaled exponential linear units (SELUs)"
   ]
  },
  {
   "cell_type": "code",
   "execution_count": 2,
   "metadata": {
    "collapsed": true
   },
   "outputs": [],
   "source": [
    "def selu(x):\n",
    "    with ops.name_scope('elu') as scope:\n",
    "        alpha = 1.6732632423543772848170429916717\n",
    "        scale = 1.0507009873554804934193349852946\n",
    "        return scale*tf.where(x>=0.0, x, alpha*tf.nn.elu(x))"
   ]
  },
  {
   "cell_type": "markdown",
   "metadata": {},
   "source": [
    "### (2) Definition of dropout variant for SNNs\n"
   ]
  },
  {
   "cell_type": "code",
   "execution_count": 3,
   "metadata": {
    "collapsed": true
   },
   "outputs": [],
   "source": [
    "\n",
    "def dropout_selu(x, rate, alpha=-1.7580993408473766, noise_shape=None, seed=None, name=None, training=False):\n",
    "    \"\"\"Dropout to a value with rescaling.\"\"\"\n",
    "\n",
    "    def dropout_selu_impl(x, rate, alpha, noise_shape, seed, name):\n",
    "        keep_prob = 1.0 - rate\n",
    "        x = ops.convert_to_tensor(x, name=\"x\")\n",
    "        if isinstance(keep_prob, numbers.Real) and not 0 < keep_prob <= 1:\n",
    "            raise ValueError(\"keep_prob must be a scalar tensor or a float in the \"\n",
    "                                             \"range (0, 1], got %g\" % keep_prob)\n",
    "        keep_prob = ops.convert_to_tensor(keep_prob, dtype=x.dtype, name=\"keep_prob\")\n",
    "        keep_prob.get_shape().assert_is_compatible_with(tensor_shape.scalar())\n",
    "\n",
    "        alpha = ops.convert_to_tensor(alpha, dtype=x.dtype, name=\"alpha\")\n",
    "        keep_prob.get_shape().assert_is_compatible_with(tensor_shape.scalar())\n",
    "\n",
    "        # Do nothing if we know keep_prob == 1\n",
    "        if tensor_util.constant_value(keep_prob) == 1:\n",
    "            return x\n",
    "\n",
    "        noise_shape = noise_shape if noise_shape is not None else array_ops.shape(x)\n",
    "        # uniform [keep_prob, 1.0 + keep_prob)\n",
    "        random_tensor = keep_prob\n",
    "        random_tensor += random_ops.random_uniform(noise_shape, seed=seed, dtype=x.dtype)\n",
    "        # 0. if [keep_prob, 1.0) and 1. if [1.0, 1.0 + keep_prob)\n",
    "        binary_tensor = math_ops.floor(random_tensor)\n",
    "        #binary_tensor2 = math_ops.ceil(random_tensor)\n",
    "        ret = x * binary_tensor + alpha * (1-binary_tensor)\n",
    "\n",
    "        #a = tf.sqrt(1.0/(keep_prob+alpha^2*keep_prob*(1.0-keep_prob)))\n",
    "        a = tf.sqrt(1.0 / keep_prob + tf.pow(alpha,2) * keep_prob * 1.0 - keep_prob)\n",
    "        #a = tf.sqrt(tf.div(1.0, tf.add(keep_prob ,tf.multiply(tf.pow(alpha,2) , tf.multiply(keep_prob,    tf.subtract(1.0,keep_prob)))) ))\n",
    "\n",
    "        b = -a * (1 - keep_prob) * alpha\n",
    "        #b = tf.neg( tf.mul(a , (tf.multiply(tf.subtract(1.0,keep_prob),alpha))))\n",
    "        ret = a * ret + b\n",
    "        #ret = tf.add(tf.multiply(a , ret) , b)\n",
    "        ret.set_shape(x.get_shape())\n",
    "        return ret\n",
    "\n",
    "    with ops.name_scope(name, \"dropout\", [x]) as name:\n",
    "        return utils.smart_cond(training,\n",
    "            lambda: dropout_selu_impl(x, rate, alpha, noise_shape, seed, name),\n",
    "            lambda: array_ops.identity(x))"
   ]
  },
  {
   "cell_type": "markdown",
   "metadata": {},
   "source": [
    "### (3) Scale input to zero mean and unit variance"
   ]
  },
  {
   "cell_type": "code",
   "execution_count": 4,
   "metadata": {
    "collapsed": false
   },
   "outputs": [],
   "source": [
    "scaler = StandardScaler().fit(mnist.train.images)"
   ]
  },
  {
   "cell_type": "code",
   "execution_count": 5,
   "metadata": {
    "collapsed": true
   },
   "outputs": [],
   "source": [
    "# Parameters\n",
    "learning_rate = 0.025\n",
    "training_iters = 50\n",
    "batch_size = 128\n",
    "display_step = 1\n",
    "\n",
    "# Network Parameters\n",
    "n_input = 784 # MNIST data input (img shape: 28*28)\n",
    "n_classes = 10 # MNIST total classes (0-9 digits)\n",
    "keep_prob_ReLU = 0.75 # Dropout, probability to keep units\n",
    "dropout_prob_SNN = 0.05 # Dropout, probability to dropout units\n",
    "\n",
    "# tf Graph input\n",
    "x = tf.placeholder(tf.float32, [None, n_input])\n",
    "y = tf.placeholder(tf.float32, [None, n_classes])\n",
    "keep_prob = tf.placeholder(tf.float32) #dropout (keep probability for ReLU)\n",
    "dropout_prob =  tf.placeholder(tf.float32) #dropout (dropout probability for SNN)"
   ]
  },
  {
   "cell_type": "code",
   "execution_count": 6,
   "metadata": {
    "collapsed": true
   },
   "outputs": [],
   "source": [
    "# Create some wrappers for simplicity\n",
    "def conv2d(x, W, b, strides=1):\n",
    "    # Conv2D wrapper, with bias and relu activation\n",
    "    x = tf.nn.conv2d(x, W, strides=[1, strides, strides, 1], padding='SAME')\n",
    "    x = tf.nn.bias_add(x, b)\n",
    "    return tf.nn.relu(x)\n",
    "\n",
    "def conv2d_SNN(x, W, b, strides=1):\n",
    "    # Conv2D wrapper, with bias and relu activation\n",
    "    x = tf.nn.conv2d(x, W, strides=[1, strides, strides, 1], padding='SAME')\n",
    "    x = tf.nn.bias_add(x, b)\n",
    "    return selu(x)\n",
    "\n",
    "def maxpool2d(x, k=2):\n",
    "    # MaxPool2D wrapper\n",
    "    return tf.nn.max_pool(x, ksize=[1, k, k, 1], strides=[1, k, k, 1],\n",
    "                          padding='SAME')"
   ]
  },
  {
   "cell_type": "code",
   "execution_count": 7,
   "metadata": {
    "collapsed": true
   },
   "outputs": [],
   "source": [
    "# Create model\n",
    "def conv_net_ReLU(x, weights, biases, keep_prob):\n",
    "    # Reshape input picture\n",
    "    x = tf.reshape(x, shape=[-1, 28, 28, 1])\n",
    "\n",
    "    # Convolution Layer\n",
    "    conv1 = conv2d(x, weights['wc1'], biases['bc1'])\n",
    "    # Max Pooling (down-sampling)\n",
    "    conv1 = maxpool2d(conv1, k=2)\n",
    "\n",
    "    # Convolution Layer\n",
    "    conv2 = conv2d(conv1, weights['wc2'], biases['bc2'])\n",
    "    # Max Pooling (down-sampling)\n",
    "    conv2 = maxpool2d(conv2, k=2)\n",
    "\n",
    "    # Fully connected layer\n",
    "    # Reshape conv2 output to fit fully connected layer input\n",
    "    fc1 = tf.reshape(conv2, [-1, weights['wd1'].get_shape().as_list()[0]])\n",
    "    fc1 = tf.add(tf.matmul(fc1, weights['wd1']), biases['bd1'])\n",
    "    fc1 = tf.nn.relu(fc1)\n",
    "    \n",
    "    # Apply Dropout\n",
    "    fc1 = tf.nn.dropout(fc1, keep_prob)\n",
    "\n",
    "    # Output, class prediction\n",
    "    out = tf.add(tf.matmul(fc1, weights['out']), biases['out'])\n",
    "    return out"
   ]
  },
  {
   "cell_type": "code",
   "execution_count": 8,
   "metadata": {
    "collapsed": true
   },
   "outputs": [],
   "source": [
    "# Create model\n",
    "def conv_net_SNN(x, weights, biases, dropout_prob):\n",
    "    # Reshape input picture\n",
    "    x = tf.reshape(x, shape=[-1, 28, 28, 1])\n",
    "\n",
    "    # Convolution Layer\n",
    "    conv1 = conv2d_SNN(x, weights['wc1'], biases['bc1'],)\n",
    "    # Max Pooling (down-sampling)\n",
    "    conv1 = maxpool2d(conv1, k=2)\n",
    "\n",
    "    # Convolution Layer\n",
    "    conv2 = conv2d_SNN(conv1, weights['wc2'], biases['bc2'])\n",
    "    # Max Pooling (down-sampling)\n",
    "    conv2 = maxpool2d(conv2, k=2)\n",
    "\n",
    "    # Fully connected layer\n",
    "    # Reshape conv2 output to fit fully connected layer input\n",
    "    fc1 = tf.reshape(conv2, [-1, weights['wd1'].get_shape().as_list()[0]])\n",
    "    fc1 = tf.add(tf.matmul(fc1, weights['wd1']), biases['bd1'])\n",
    "    fc1 = selu(fc1)\n",
    "    \n",
    "    # Apply Dropout\n",
    "    fc1 = dropout_selu(fc1, dropout_prob)\n",
    "\n",
    "    # Output, class prediction\n",
    "    out = tf.add(tf.matmul(fc1, weights['out']), biases['out'])\n",
    "    return out"
   ]
  },
  {
   "cell_type": "code",
   "execution_count": 9,
   "metadata": {
    "collapsed": true
   },
   "outputs": [],
   "source": [
    "# RELU: Store layers weight & bias\n",
    "## Improved with MSRA initialization\n",
    "\n",
    "weights = {\n",
    "    # 5x5 conv, 1 input, 32 outputs\n",
    "    'wc1': tf.Variable(tf.random_normal([5, 5, 1, 32],stddev=np.sqrt(2/25)) ),\n",
    "    # 5x5 conv, 32 inputs, 64 outputs\n",
    "    'wc2': tf.Variable(tf.random_normal([5, 5, 32, 64],stddev=np.sqrt(2/(25*32)))),\n",
    "    # fully connected, 7*7*64 inputs, 1024 outputs\n",
    "    'wd1': tf.Variable(tf.random_normal([7*7*64, 1024],stddev=np.sqrt(2/(7*7*64)))),\n",
    "    # 1024 inputs, 10 outputs (class prediction)\n",
    "    'out': tf.Variable(tf.random_normal([1024, n_classes],stddev=np.sqrt(2/(1024))))\n",
    "}\n",
    "\n",
    "biases = {\n",
    "    'bc1': tf.Variable(tf.random_normal([32],stddev=0)),\n",
    "    'bc2': tf.Variable(tf.random_normal([64],stddev=0)),\n",
    "    'bd1': tf.Variable(tf.random_normal([1024],stddev=0)),\n",
    "    'out': tf.Variable(tf.random_normal([n_classes],stddev=0))\n",
    "}"
   ]
  },
  {
   "cell_type": "markdown",
   "metadata": {},
   "source": [
    "### (4) Initialization with STDDEV of sqrt(1/n)"
   ]
  },
  {
   "cell_type": "code",
   "execution_count": 10,
   "metadata": {
    "collapsed": false
   },
   "outputs": [],
   "source": [
    "# SNN: Store layers weight & bias\n",
    "weights2 = {\n",
    "    # 5x5 conv, 1 input, 32 outputs\n",
    "    'wc1': tf.Variable(tf.random_normal([5, 5, 1, 32],stddev=np.sqrt(1/25)) ),\n",
    "    # 5x5 conv, 32 inputs, 64 outputs\n",
    "    'wc2': tf.Variable(tf.random_normal([5, 5, 32, 64],stddev=np.sqrt(1/(25*32)))),\n",
    "    # fully connected, 7*7*64 inputs, 1024 outputs\n",
    "    'wd1': tf.Variable(tf.random_normal([7*7*64, 1024],stddev=np.sqrt(1/(7*7*64)))),\n",
    "    # 1024 inputs, 10 outputs (class prediction)\n",
    "    'out': tf.Variable(tf.random_normal([1024, n_classes],stddev=np.sqrt(1/(1024))))\n",
    "}\n",
    "\n",
    "biases2 = {\n",
    "    'bc1': tf.Variable(tf.random_normal([32],stddev=0)),\n",
    "    'bc2': tf.Variable(tf.random_normal([64],stddev=0)),\n",
    "    'bd1': tf.Variable(tf.random_normal([1024],stddev=0)),\n",
    "    'out': tf.Variable(tf.random_normal([n_classes],stddev=0))\n",
    "}\n"
   ]
  },
  {
   "cell_type": "code",
   "execution_count": 11,
   "metadata": {
    "collapsed": false
   },
   "outputs": [],
   "source": [
    "# Construct model\n",
    "pred_ReLU = conv_net_ReLU(x, weights, biases, keep_prob)\n",
    "pred_SNN = conv_net_SNN(x, weights2, biases2, dropout_prob)\n",
    "\n",
    "# Define loss and optimizer\n",
    "cost_ReLU = tf.reduce_mean(tf.nn.softmax_cross_entropy_with_logits(logits=pred_ReLU, labels=y))\n",
    "cost_SNN = tf.reduce_mean(tf.nn.softmax_cross_entropy_with_logits(logits=pred_SNN, labels=y))\n",
    "\n",
    "optimizer_ReLU = tf.train.GradientDescentOptimizer(learning_rate=learning_rate).minimize(cost_ReLU)\n",
    "optimizer_SNN = tf.train.GradientDescentOptimizer(learning_rate=learning_rate).minimize(cost_SNN)\n",
    "\n",
    "# Evaluate ReLU model\n",
    "correct_pred_ReLU = tf.equal(tf.argmax(pred_ReLU, 1), tf.argmax(y, 1))\n",
    "accuracy_ReLU = tf.reduce_mean(tf.cast(correct_pred_ReLU, tf.float32))\n",
    "\n",
    "# Evaluate SNN model\n",
    "correct_pred_SNN = tf.equal(tf.argmax(pred_SNN, 1), tf.argmax(y, 1))\n",
    "accuracy_SNN = tf.reduce_mean(tf.cast(correct_pred_SNN, tf.float32))\n",
    "\n",
    "\n",
    "# Initializing the variables\n",
    "init = tf.global_variables_initializer()"
   ]
  },
  {
   "cell_type": "code",
   "execution_count": 12,
   "metadata": {
    "collapsed": true
   },
   "outputs": [],
   "source": [
    "training_loss_protocol_ReLU = []\n",
    "training_loss_protocol_SNN = []"
   ]
  },
  {
   "cell_type": "code",
   "execution_count": 13,
   "metadata": {
    "collapsed": false
   },
   "outputs": [
    {
     "name": "stdout",
     "output_type": "stream",
     "text": [
      "RELU: Nbr of updates: 1, Minibatch Loss= 2.720972, Training Accuracy= 0.10156\n",
      "SNN: Nbr of updates: 1, Minibatch Loss= 1.569049, Training Accuracy= 0.45312\n",
      "RELU: Nbr of updates: 2, Minibatch Loss= 2.272902, Training Accuracy= 0.22656\n",
      "SNN: Nbr of updates: 2, Minibatch Loss= 2.626802, Training Accuracy= 0.53125\n",
      "RELU: Nbr of updates: 3, Minibatch Loss= 2.229953, Training Accuracy= 0.28125\n",
      "SNN: Nbr of updates: 3, Minibatch Loss= 1.726239, Training Accuracy= 0.58594\n",
      "RELU: Nbr of updates: 4, Minibatch Loss= 1.894720, Training Accuracy= 0.48438\n",
      "SNN: Nbr of updates: 4, Minibatch Loss= 0.701736, Training Accuracy= 0.80469\n",
      "RELU: Nbr of updates: 5, Minibatch Loss= 1.672306, Training Accuracy= 0.61719\n",
      "SNN: Nbr of updates: 5, Minibatch Loss= 0.597832, Training Accuracy= 0.83594\n",
      "RELU: Nbr of updates: 6, Minibatch Loss= 1.497246, Training Accuracy= 0.55469\n",
      "SNN: Nbr of updates: 6, Minibatch Loss= 0.485961, Training Accuracy= 0.90625\n",
      "RELU: Nbr of updates: 7, Minibatch Loss= 1.451231, Training Accuracy= 0.66406\n",
      "SNN: Nbr of updates: 7, Minibatch Loss= 0.422541, Training Accuracy= 0.89062\n",
      "RELU: Nbr of updates: 8, Minibatch Loss= 1.450314, Training Accuracy= 0.68750\n",
      "SNN: Nbr of updates: 8, Minibatch Loss= 0.517356, Training Accuracy= 0.84375\n",
      "RELU: Nbr of updates: 9, Minibatch Loss= 1.305660, Training Accuracy= 0.65625\n",
      "SNN: Nbr of updates: 9, Minibatch Loss= 0.318516, Training Accuracy= 0.94531\n",
      "RELU: Nbr of updates: 10, Minibatch Loss= 1.268677, Training Accuracy= 0.79688\n",
      "SNN: Nbr of updates: 10, Minibatch Loss= 0.414705, Training Accuracy= 0.86719\n",
      "RELU: Nbr of updates: 11, Minibatch Loss= 1.185814, Training Accuracy= 0.76562\n",
      "SNN: Nbr of updates: 11, Minibatch Loss= 0.368448, Training Accuracy= 0.92969\n",
      "RELU: Nbr of updates: 12, Minibatch Loss= 1.126094, Training Accuracy= 0.66406\n",
      "SNN: Nbr of updates: 12, Minibatch Loss= 0.298474, Training Accuracy= 0.93750\n",
      "RELU: Nbr of updates: 13, Minibatch Loss= 1.131941, Training Accuracy= 0.62500\n",
      "SNN: Nbr of updates: 13, Minibatch Loss= 0.374245, Training Accuracy= 0.89844\n",
      "RELU: Nbr of updates: 14, Minibatch Loss= 1.325570, Training Accuracy= 0.59375\n",
      "SNN: Nbr of updates: 14, Minibatch Loss= 0.303229, Training Accuracy= 0.92188\n",
      "RELU: Nbr of updates: 15, Minibatch Loss= 1.169778, Training Accuracy= 0.72656\n",
      "SNN: Nbr of updates: 15, Minibatch Loss= 0.388425, Training Accuracy= 0.90625\n",
      "RELU: Nbr of updates: 16, Minibatch Loss= 0.990541, Training Accuracy= 0.75000\n",
      "SNN: Nbr of updates: 16, Minibatch Loss= 0.347122, Training Accuracy= 0.90625\n",
      "RELU: Nbr of updates: 17, Minibatch Loss= 0.884434, Training Accuracy= 0.80469\n",
      "SNN: Nbr of updates: 17, Minibatch Loss= 0.260720, Training Accuracy= 0.94531\n",
      "RELU: Nbr of updates: 18, Minibatch Loss= 0.960454, Training Accuracy= 0.65625\n",
      "SNN: Nbr of updates: 18, Minibatch Loss= 0.252658, Training Accuracy= 0.96875\n",
      "RELU: Nbr of updates: 19, Minibatch Loss= 0.880230, Training Accuracy= 0.78906\n",
      "SNN: Nbr of updates: 19, Minibatch Loss= 0.199362, Training Accuracy= 0.97656\n",
      "RELU: Nbr of updates: 20, Minibatch Loss= 0.782163, Training Accuracy= 0.85938\n",
      "SNN: Nbr of updates: 20, Minibatch Loss= 0.248098, Training Accuracy= 0.95312\n",
      "RELU: Nbr of updates: 21, Minibatch Loss= 0.765827, Training Accuracy= 0.82031\n",
      "SNN: Nbr of updates: 21, Minibatch Loss= 0.261476, Training Accuracy= 0.93750\n",
      "RELU: Nbr of updates: 22, Minibatch Loss= 0.770471, Training Accuracy= 0.83594\n",
      "SNN: Nbr of updates: 22, Minibatch Loss= 0.251912, Training Accuracy= 0.96094\n",
      "RELU: Nbr of updates: 23, Minibatch Loss= 0.779598, Training Accuracy= 0.78125\n",
      "SNN: Nbr of updates: 23, Minibatch Loss= 0.257677, Training Accuracy= 0.91406\n",
      "RELU: Nbr of updates: 24, Minibatch Loss= 0.796053, Training Accuracy= 0.75781\n",
      "SNN: Nbr of updates: 24, Minibatch Loss= 0.278088, Training Accuracy= 0.92969\n",
      "RELU: Nbr of updates: 25, Minibatch Loss= 0.691283, Training Accuracy= 0.85938\n",
      "SNN: Nbr of updates: 25, Minibatch Loss= 0.203673, Training Accuracy= 0.96875\n",
      "RELU: Nbr of updates: 26, Minibatch Loss= 0.638615, Training Accuracy= 0.85156\n",
      "SNN: Nbr of updates: 26, Minibatch Loss= 0.185276, Training Accuracy= 0.96094\n",
      "RELU: Nbr of updates: 27, Minibatch Loss= 0.587165, Training Accuracy= 0.85938\n",
      "SNN: Nbr of updates: 27, Minibatch Loss= 0.241375, Training Accuracy= 0.96875\n",
      "RELU: Nbr of updates: 28, Minibatch Loss= 0.636230, Training Accuracy= 0.83594\n",
      "SNN: Nbr of updates: 28, Minibatch Loss= 0.225535, Training Accuracy= 0.95312\n",
      "RELU: Nbr of updates: 29, Minibatch Loss= 0.692943, Training Accuracy= 0.78906\n",
      "SNN: Nbr of updates: 29, Minibatch Loss= 0.214595, Training Accuracy= 0.92969\n",
      "RELU: Nbr of updates: 30, Minibatch Loss= 0.673216, Training Accuracy= 0.86719\n",
      "SNN: Nbr of updates: 30, Minibatch Loss= 0.266725, Training Accuracy= 0.94531\n",
      "RELU: Nbr of updates: 31, Minibatch Loss= 0.703637, Training Accuracy= 0.83594\n",
      "SNN: Nbr of updates: 31, Minibatch Loss= 0.298076, Training Accuracy= 0.93750\n",
      "RELU: Nbr of updates: 32, Minibatch Loss= 0.471186, Training Accuracy= 0.89844\n",
      "SNN: Nbr of updates: 32, Minibatch Loss= 0.148115, Training Accuracy= 0.97656\n",
      "RELU: Nbr of updates: 33, Minibatch Loss= 0.531960, Training Accuracy= 0.86719\n",
      "SNN: Nbr of updates: 33, Minibatch Loss= 0.182907, Training Accuracy= 0.95312\n",
      "RELU: Nbr of updates: 34, Minibatch Loss= 0.484118, Training Accuracy= 0.90625\n",
      "SNN: Nbr of updates: 34, Minibatch Loss= 0.193014, Training Accuracy= 0.96875\n",
      "RELU: Nbr of updates: 35, Minibatch Loss= 0.520586, Training Accuracy= 0.88281\n",
      "SNN: Nbr of updates: 35, Minibatch Loss= 0.174057, Training Accuracy= 0.96094\n",
      "RELU: Nbr of updates: 36, Minibatch Loss= 0.459049, Training Accuracy= 0.88281\n",
      "SNN: Nbr of updates: 36, Minibatch Loss= 0.137451, Training Accuracy= 0.98438\n",
      "RELU: Nbr of updates: 37, Minibatch Loss= 0.555395, Training Accuracy= 0.85156\n",
      "SNN: Nbr of updates: 37, Minibatch Loss= 0.166703, Training Accuracy= 0.96094\n",
      "RELU: Nbr of updates: 38, Minibatch Loss= 0.517740, Training Accuracy= 0.88281\n",
      "SNN: Nbr of updates: 38, Minibatch Loss= 0.204360, Training Accuracy= 0.95312\n",
      "RELU: Nbr of updates: 39, Minibatch Loss= 0.676205, Training Accuracy= 0.75781\n",
      "SNN: Nbr of updates: 39, Minibatch Loss= 0.247705, Training Accuracy= 0.92188\n",
      "RELU: Nbr of updates: 40, Minibatch Loss= 0.544066, Training Accuracy= 0.83594\n",
      "SNN: Nbr of updates: 40, Minibatch Loss= 0.216793, Training Accuracy= 0.95312\n",
      "RELU: Nbr of updates: 41, Minibatch Loss= 0.362943, Training Accuracy= 0.92969\n",
      "SNN: Nbr of updates: 41, Minibatch Loss= 0.142694, Training Accuracy= 0.96875\n",
      "RELU: Nbr of updates: 42, Minibatch Loss= 0.441487, Training Accuracy= 0.91406\n",
      "SNN: Nbr of updates: 42, Minibatch Loss= 0.189054, Training Accuracy= 0.95312\n",
      "RELU: Nbr of updates: 43, Minibatch Loss= 0.486949, Training Accuracy= 0.84375\n",
      "SNN: Nbr of updates: 43, Minibatch Loss= 0.201976, Training Accuracy= 0.92188\n",
      "RELU: Nbr of updates: 44, Minibatch Loss= 0.365758, Training Accuracy= 0.92188\n",
      "SNN: Nbr of updates: 44, Minibatch Loss= 0.142311, Training Accuracy= 0.96094\n",
      "RELU: Nbr of updates: 45, Minibatch Loss= 0.444580, Training Accuracy= 0.90625\n",
      "SNN: Nbr of updates: 45, Minibatch Loss= 0.254133, Training Accuracy= 0.92969\n",
      "RELU: Nbr of updates: 46, Minibatch Loss= 0.437425, Training Accuracy= 0.85938\n",
      "SNN: Nbr of updates: 46, Minibatch Loss= 0.162577, Training Accuracy= 0.97656\n",
      "RELU: Nbr of updates: 47, Minibatch Loss= 0.357991, Training Accuracy= 0.91406\n",
      "SNN: Nbr of updates: 47, Minibatch Loss= 0.140877, Training Accuracy= 0.97656\n",
      "RELU: Nbr of updates: 48, Minibatch Loss= 0.439970, Training Accuracy= 0.89062\n",
      "SNN: Nbr of updates: 48, Minibatch Loss= 0.210475, Training Accuracy= 0.94531\n",
      "RELU: Nbr of updates: 49, Minibatch Loss= 0.361864, Training Accuracy= 0.90625\n",
      "SNN: Nbr of updates: 49, Minibatch Loss= 0.212902, Training Accuracy= 0.96875\n",
      "RELU: Nbr of updates: 50, Minibatch Loss= 0.361003, Training Accuracy= 0.90625\n",
      "SNN: Nbr of updates: 50, Minibatch Loss= 0.126570, Training Accuracy= 0.98438\n",
      "Optimization Finished!\n",
      "\n",
      "ReLU: Testing Accuracy: 0.855469\n",
      "SNN: Testing Accuracy: 0.927734\n"
     ]
    }
   ],
   "source": [
    "# Launch the graph\n",
    "gpu_options = tf.GPUOptions(allow_growth=True)\n",
    "with tf.Session(config=tf.ConfigProto(gpu_options=gpu_options)) as sess:\n",
    "    sess.run(init)\n",
    "    step = 0\n",
    "    # Keep training until reach max iterations\n",
    "    while step < training_iters:\n",
    "        batch_x, batch_y = mnist.train.next_batch(batch_size)\n",
    "        batch_x_norm = scaler.transform(batch_x)\n",
    "        # Run optimization op (backprop)\n",
    "        sess.run(optimizer_ReLU, feed_dict={x: batch_x, y: batch_y,\n",
    "                                       keep_prob: keep_prob_ReLU})\n",
    "        sess.run(optimizer_SNN, feed_dict={x: batch_x_norm, y: batch_y,\n",
    "                                       dropout_prob: dropout_prob_SNN})\n",
    "        \n",
    "        \n",
    "        if step % display_step == 0:\n",
    "            #batch_x, batch_y = mnist.test.next_batch(batch_size)\n",
    "            #batch_x_norm = scaler.transform(batch_x)\n",
    "            # Calculate batch loss and accuracy\n",
    "            loss_ReLU, acc_ReLU = sess.run([cost_ReLU, accuracy_ReLU], feed_dict={x: batch_x,\n",
    "                                                              y: batch_y,\n",
    "                                                              keep_prob: 1.0})\n",
    "            training_loss_protocol_ReLU.append(loss_ReLU)\n",
    "            \n",
    "            loss_SNN, acc_SNN = sess.run([cost_SNN, accuracy_SNN], feed_dict={x: batch_x_norm,\n",
    "                                                              y: batch_y,\n",
    "                                                              dropout_prob: 0.0})\n",
    "            training_loss_protocol_SNN.append(loss_SNN)\n",
    "            \n",
    "            print( \"RELU: Nbr of updates: \" + str(step+1) + \", Minibatch Loss= \" + \\\n",
    "                  \"{:.6f}\".format(loss_ReLU) + \", Training Accuracy= \" + \\\n",
    "                  \"{:.5f}\".format(acc_ReLU))\n",
    "            \n",
    "            print( \"SNN: Nbr of updates: \" + str(step+1) + \", Minibatch Loss= \" + \\\n",
    "                  \"{:.6f}\".format(loss_SNN) + \", Training Accuracy= \" + \\\n",
    "                  \"{:.5f}\".format(acc_SNN))\n",
    "        step += 1\n",
    "    print(\"Optimization Finished!\\n\")\n",
    "\n",
    "    # Calculate accuracy for 256 mnist test images\n",
    "    print(\"ReLU: Testing Accuracy:\", sess.run(accuracy_ReLU, feed_dict={x: mnist.test.images[:512],\n",
    "                                      y: mnist.test.labels[:512],\n",
    "                                      keep_prob: 1.0}))\n",
    "    print(\"SNN: Testing Accuracy:\", sess.run(accuracy_SNN, feed_dict={x: scaler.transform(mnist.test.images[:512]),\n",
    "                                      y: mnist.test.labels[:512],\n",
    "                                      dropout_prob: 0.0}))"
   ]
  },
  {
   "cell_type": "code",
   "execution_count": 14,
   "metadata": {
    "collapsed": false
   },
   "outputs": [
    {
     "data": {
      "image/png": "[encoded data removed]",
      "text/plain": [
       "<matplotlib.figure.Figure at 0x7fb0d68e0400>"
      ]
     },
     "execution_count": 14,
     "metadata": {},
     "output_type": "execute_result"
    }
   ],
   "source": [
    "import matplotlib.pyplot as plt\n",
    "\n",
    "fig, ax = plt.subplots()\n",
    "ax.plot( training_loss_protocol_ReLU, label='Loss ReLU')\n",
    "ax.plot( training_loss_protocol_SNN, label='Loss SNN')\n",
    "ax.set_yscale('log')  # log scale\n",
    "fig.tight_layout()\n",
    "fig"
   ]
  }
 ],
 "metadata": {
  "kernelspec": {
   "display_name": "tf-alpha",
   "language": "python",
   "name": "tf-alpha"
  },
  "language_info": {
   "codemirror_mode": {
    "name": "ipython",
    "version": 3
   },
   "file_extension": ".py",
   "mimetype": "text/x-python",
   "name": "python",
   "nbconvert_exporter": "python",
   "pygments_lexer": "ipython3",
   "version": "3.5.2"
  }
 },
 "nbformat": 4,
 "nbformat_minor": 0
}
